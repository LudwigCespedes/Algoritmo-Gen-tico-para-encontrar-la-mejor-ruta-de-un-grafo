{
 "cells": [
  {
   "cell_type": "code",
   "execution_count": 1,
   "id": "91b645e5-9b9b-4165-82f1-f519403ecbcc",
   "metadata": {},
   "outputs": [],
   "source": [
    "import random"
   ]
  },
  {
   "cell_type": "code",
   "execution_count": 3,
   "id": "009aac2f-861d-4e87-8833-374e245fdb1d",
   "metadata": {},
   "outputs": [],
   "source": [
    "class Grafo:\n",
    "    \n",
    "    def __init__(self):\n",
    "        self.grafo = {}\n",
    "    \n",
    "    def import_m(self, M='Matriz.txt'):\n",
    "        \"\"\"\n",
    "        Importa una matris de un documento de texto\n",
    "        \"\"\"\n",
    "        with open(M, \"r\" , encoding=\"utf-8\") as m:\n",
    "            Matriz = m.read().split('\\n')\n",
    "        \n",
    "        return Matriz\n",
    "        \n",
    "    def matrix_2_dict(self,data): \n",
    "        for linea in data:\n",
    "            origen, destino, peso = linea.split()\n",
    "            peso = int(peso)\n",
    "\n",
    "            if origen not in self.grafo:\n",
    "                self.grafo[origen] = {}\n",
    "            if destino not in self.grafo:\n",
    "                self.grafo[destino] = {}\n",
    "    \n",
    "            self.grafo[origen][destino] = peso\n",
    "            self.grafo[destino][origen] = peso\n",
    "\n",
    "        return self.grafo\n",
    "    \n",
    "    def vrp(self, grafo,nodo_c):\n",
    "        \n",
    "        G = nx.Graph(grafo)\n",
    "        particiones = list(kernighan_lin_bisection(G))\n",
    "        print(particiones)\n",
    "        l =[]\n",
    "        for particion in particiones:\n",
    "            #print(type(particion))\n",
    "            self.grafo = deepcopy(grafo)\n",
    "            #print(self.grafo)\n",
    "            if nodo_c in particion:\n",
    "                particion.remove(nodo_c)\n",
    "\n",
    "            for nodo in particion:\n",
    "                if nodo in self.grafo:\n",
    "                    del self.grafo[nodo]\n",
    "                for nodo_conectado in self.grafo:\n",
    "                    if nodo in self.grafo[nodo_conectado]:\n",
    "                        del self.grafo[nodo_conectado][nodo]\n",
    "            #print(self.grafo)\n",
    "\n",
    "            l.append(self.grafo)\n",
    "    \n",
    "        return l\n",
    "    \n",
    "    def floyd_warshall(self,grafo):\n",
    "        # Crear una copia del grafo para no modificar el original\n",
    "        distancias = {nodo: {otro_nodo: float('inf') for otro_nodo in grafo} for nodo in grafo}\n",
    "        \n",
    "        # Inicializar las distancias conocidas (distancia entre un nodo y sí mismo es 0)\n",
    "        for nodo in grafo:\n",
    "            distancias[nodo][nodo] = 0\n",
    "        \n",
    "        # Actualizar las distancias con los valores del grafo original\n",
    "        for nodo in grafo:\n",
    "            for vecino in grafo[nodo]:\n",
    "                distancias[nodo][vecino] = grafo[nodo][vecino]\n",
    "        \n",
    "        # Aplicar el algoritmo de Floyd-Warshall\n",
    "        for intermedio in grafo:\n",
    "            for origen in grafo:\n",
    "                for destino in grafo:\n",
    "                    # Si el camino a través del nodo intermedio es más corto, actualizar\n",
    "                    if distancias[origen][destino] > distancias[origen][intermedio] + distancias[intermedio][destino]:\n",
    "                        distancias[origen][destino] = distancias[origen][intermedio] + distancias[intermedio][destino]\n",
    "        \n",
    "        return distancias\n",
    " \n"
   ]
  },
  {
   "cell_type": "code",
   "execution_count": 4,
   "id": "87682a41-66c7-47c8-97ef-fdd7cd565873",
   "metadata": {},
   "outputs": [
    {
     "name": "stdout",
     "output_type": "stream",
     "text": [
      "{'A': {'B': 2, 'C': 7, 'D': 3}, 'B': {'A': 2, 'C': 8, 'D': 4}, 'C': {'A': 7, 'B': 8, 'D': 1}, 'D': {'A': 3, 'B': 4, 'C': 1}}\n",
      "{'A': {'A': 0, 'B': 2, 'C': 4, 'D': 3}, 'B': {'A': 2, 'B': 0, 'C': 5, 'D': 4}, 'C': {'A': 4, 'B': 5, 'C': 0, 'D': 1}, 'D': {'A': 3, 'B': 4, 'C': 1, 'D': 0}}\n"
     ]
    }
   ],
   "source": [
    "if __name__ == \"__main__\":\n",
    "    G=Grafo()\n",
    "    grafo= G.matrix_2_dict(G.import_m())\n",
    "    print(grafo)\n",
    "    grafo= G.floyd_warshall(G.matrix_2_dict(G.import_m()))\n",
    "    print(grafo)"
   ]
  },
  {
   "cell_type": "code",
   "execution_count": 5,
   "id": "ea6bfddd-8d30-4d3c-9da9-0484a66ecf24",
   "metadata": {},
   "outputs": [],
   "source": [
    "def inicializar_poblacion(grafo, nodo_inicial, numero_p):\n",
    "    \"\"\"\n",
    "    Esta funcion crea una poblacion inicial.\n",
    "    Entrada: grafo, nodo que inicia y numero de poblacion \n",
    "    Salidad : rutas de la poblacion. Ejemplo: [A,B,C,D,A]\n",
    "    \"\"\"\n",
    "    poblacion = []\n",
    "    nodos = list(grafo.keys())\n",
    "\n",
    "    for _ in range(numero_p):\n",
    "        ruta = [nodo_inicial]\n",
    "        nodo_actual = nodo_inicial\n",
    "\n",
    "        while len(ruta) < len(nodos):\n",
    "            # Seleccionar un nodo vecino aleatorio\n",
    "            vecinos = list(grafo[nodo_actual])\n",
    "            nodo_siguiente = random.choice(vecinos)\n",
    "\n",
    "            # Evitar ciclos en la ruta\n",
    "            if nodo_siguiente not in ruta:\n",
    "                ruta.append(nodo_siguiente)\n",
    "                nodo_actual = nodo_siguiente\n",
    "\n",
    "        # Completar el ciclo volviendo al nodo inicial\n",
    "        ruta.append(nodo_inicial)\n",
    "        poblacion.append(ruta)\n",
    "\n",
    "    return poblacion\n"
   ]
  },
  {
   "cell_type": "code",
   "execution_count": 6,
   "id": "44ac4b97-cc09-457b-8d17-d954278650af",
   "metadata": {},
   "outputs": [
    {
     "name": "stdout",
     "output_type": "stream",
     "text": [
      "[['A', 'C', 'B', 'D', 'A'], ['A', 'D', 'B', 'C', 'A'], ['A', 'D', 'C', 'B', 'A'], ['A', 'B', 'C', 'D', 'A']]\n"
     ]
    }
   ],
   "source": [
    "poblacion = inicializar_poblacion(grafo,\"A\",4)\n",
    "print(poblacion)"
   ]
  },
  {
   "cell_type": "code",
   "execution_count": 7,
   "id": "f621fcde-de0c-4bcb-81e9-03aa90a2d677",
   "metadata": {},
   "outputs": [],
   "source": [
    "def calcular_peso_ruta(grafo, ruta):\n",
    "    peso_total = sum(grafo[ruta[i]][ruta[i + 1]] for i in range(len(ruta) - 1))\n",
    "    return peso_total\n",
    "\n",
    "\n",
    "def evaluacion(grafo, poblacion):\n",
    "    \n",
    "    evaluaciones = []\n",
    "\n",
    "    for ruta in poblacion:\n",
    "        peso_ruta = calcular_peso_ruta(grafo, ruta)\n",
    "        evaluaciones.append((ruta, peso_ruta))\n",
    "\n",
    "    return evaluaciones\n"
   ]
  },
  {
   "cell_type": "code",
   "execution_count": 8,
   "id": "54770938-8ec3-4079-a65c-d6401e69e9f2",
   "metadata": {},
   "outputs": [
    {
     "name": "stdout",
     "output_type": "stream",
     "text": [
      "[(['A', 'C', 'B', 'D', 'A'], 16), (['A', 'D', 'B', 'C', 'A'], 16), (['A', 'D', 'C', 'B', 'A'], 11), (['A', 'B', 'C', 'D', 'A'], 11)]\n"
     ]
    }
   ],
   "source": [
    "evaluacion1 = evaluacion(grafo,poblacion)\n",
    "print(evaluacion1)"
   ]
  },
  {
   "cell_type": "code",
   "execution_count": 9,
   "id": "2333c55c-5472-4c1c-ab90-0fd2e50ee50b",
   "metadata": {},
   "outputs": [],
   "source": [
    "def seleccion(evaluaciones, porcentaje_de_seleccion_de_poblacion=0.5):\n",
    "    \n",
    "    evaluaciones_ordenadas = sorted(evaluaciones, key=lambda x: x[1])  # Ordenar evaluaciones por peso\n",
    "\n",
    "    # Calcular la cantidad de individuos a seleccionar\n",
    "    cantidad_a_seleccionar = int(len(evaluaciones) * porcentaje_de_seleccion_de_poblacion)\n",
    "\n",
    "    # Seleccionar los mejores individuos según el porcentaje\n",
    "    seleccionados = evaluaciones_ordenadas[:cantidad_a_seleccionar]\n",
    "\n",
    "    return seleccionados"
   ]
  },
  {
   "cell_type": "code",
   "execution_count": 10,
   "id": "ae53461b-e60d-4fe8-8639-2e5551492f9e",
   "metadata": {},
   "outputs": [],
   "source": [
    "porcentaje_de_seleccion_de_poblacion =0.5"
   ]
  },
  {
   "cell_type": "code",
   "execution_count": 11,
   "id": "c61742a5-cc77-47fe-840c-b17722484421",
   "metadata": {},
   "outputs": [
    {
     "name": "stdout",
     "output_type": "stream",
     "text": [
      "[(['A', 'D', 'C', 'B', 'A'], 11), (['A', 'B', 'C', 'D', 'A'], 11)]\n"
     ]
    }
   ],
   "source": [
    "seleccion1 = seleccion(evaluacion1,porcentaje_de_seleccion_de_poblacion)\n",
    "print(seleccion1)"
   ]
  },
  {
   "cell_type": "code",
   "execution_count": 12,
   "id": "0ade173d-b5e8-462f-b417-d6f5b1020adf",
   "metadata": {},
   "outputs": [],
   "source": [
    "def one_point_crossover(parent1, parent2):\n",
    "    crossover_point = random.randint(1, min(len(parent1), len(parent2)-1))\n",
    "    child1 = parent1[:crossover_point] + parent2[crossover_point:]\n",
    "    child2 = parent2[:crossover_point] + parent1[crossover_point:]\n",
    "\n",
    "    return child1, child2\n",
    "\n",
    "\n",
    "def partially_mapped_crossover(parent1, parent2):\n",
    "    #global mapeo1,mapeo2,child1,child2,hay_duplicados1,hay_duplicados2,indices_repetidos\n",
    "    # Selecciona un punto de cruce aleatorio\n",
    "    crossover_point = random.randint(1, min(len(parent1), len(parent2))-1)\n",
    "    # Realiza el cruce para generar a los hijos\n",
    "    child1 = parent1[1:crossover_point] + parent2[crossover_point:-1]\n",
    "    child2 = parent2[1:crossover_point] + parent1[crossover_point:-1]\n",
    "    # Crea mapeos entre los elementos de los padres\n",
    "    mapeo1 = {p1: p2 for p1, p2 in zip(parent1[1:-1], parent2[1:-1])}\n",
    "    mapeo2 = {p2: p1 for p2, p1 in zip(parent2[1:-1], parent1[1:-1])}\n",
    "\n",
    "    # Verifica si hay elementos duplicados en los hijos\n",
    "    hay_duplicados1 =  len(child1) != len(set(child1))\n",
    "    hay_duplicados2 = len(child2) != len(set(child2))\n",
    "    \n",
    "    # Corrige duplicados en el primer hijo\n",
    "    while hay_duplicados1:\n",
    "        indices_repetidos = [item for item in child1 if child1.count(item) > 1]\n",
    "        for item in indices_repetidos:\n",
    "            index = child1.index(item)\n",
    "            if item in mapeo1:\n",
    "                child1[index] = mapeo1[item]\n",
    "                indices_repetidos.remove(item)\n",
    "        hay_duplicados1 = len(child1) != len(set(child1)) \n",
    "    # Corrige duplicados en el segundo hijo   \n",
    "    while hay_duplicados2:\n",
    "        indices_repetidos = [item for item in child2 if child2.count(item) > 1]\n",
    "        for item in indices_repetidos:\n",
    "            index = child2.index(item)\n",
    "            if item in mapeo2:\n",
    "                child2[index] = mapeo2[item]\n",
    "                indices_repetidos.remove(item)\n",
    "        hay_duplicados2 = len(child2) != len(set(child2)) \n",
    "    \n",
    "    child1.append(parent1[0]);child1.insert(0,parent1[0])\n",
    "    child2.append(parent2[0]);child2.insert(0,parent1[0])\n",
    "    return child1, child2\n",
    "\n",
    "def recombinacion(seleccionados):\n",
    "    hijos = []\n",
    "    cantidad_seleccionados = len(seleccionados)+(len(seleccionados)*porcentaje_de_seleccion_de_poblacion)\n",
    "\n",
    "    while len(hijos) < cantidad_seleccionados:\n",
    "        padre1, padre2 = random.sample(seleccionados, 2)\n",
    "        hijo1, hijo2 = partially_mapped_crossover(padre1[0], padre2[0])\n",
    "\n",
    "        hijos.append(hijo1)\n",
    "        hijos.append(hijo2)\n",
    "\n",
    "    return hijos\n"
   ]
  },
  {
   "cell_type": "code",
   "execution_count": 13,
   "id": "cc83bc22-a79a-4edf-9e4f-2e1f87e4742c",
   "metadata": {},
   "outputs": [
    {
     "name": "stdout",
     "output_type": "stream",
     "text": [
      "[['A', 'B', 'C', 'D', 'A'], ['A', 'D', 'C', 'B', 'A'], ['A', 'D', 'C', 'B', 'A'], ['A', 'B', 'C', 'D', 'A']]\n"
     ]
    }
   ],
   "source": [
    "recombinacion1 = recombinacion(seleccion1)\n",
    "print(recombinacion1)"
   ]
  },
  {
   "cell_type": "code",
   "execution_count": 13,
   "id": "39954bf3-323b-4400-a4d1-8e98e8804762",
   "metadata": {},
   "outputs": [],
   "source": [
    "def mutacion(recombinacion, probabilidad_mutacion=0.5):\n",
    "    hijos_mutados = []\n",
    "    \n",
    "    for hijo in recombinacion:\n",
    "        if random.random() < probabilidad_mutacion:\n",
    "            hijo_mutado = hijo[:]\n",
    "                      \n",
    "            nodos_mutables = list(hijo_mutado[1:-1])\n",
    "            \n",
    "            for i in range(1, len(hijo_mutado) - 1):\n",
    "                \n",
    "                nuevo_nodo = random.choice(nodos_mutables)\n",
    "                nodos_mutables.remove(nuevo_nodo)\n",
    "                hijo_mutado[i] = nuevo_nodo\n",
    "            \n",
    "            hijos_mutados.append(hijo_mutado)\n",
    "        else:\n",
    "            hijos_mutados.append(hijo)\n",
    "    \n",
    "    return hijos_mutados\n"
   ]
  },
  {
   "cell_type": "code",
   "execution_count": 14,
   "id": "37380281-c2ad-4d7c-a907-545f5d815c34",
   "metadata": {},
   "outputs": [
    {
     "name": "stdout",
     "output_type": "stream",
     "text": [
      "[['A', 'C', 'B', 'D', 'A'], ['A', 'C', 'D', 'B', 'A'], ['A', 'B', 'C', 'D', 'A'], ['A', 'B', 'D', 'C', 'A']]\n"
     ]
    }
   ],
   "source": [
    "mutacion1 = mutacion(recombinacion1)\n",
    "print(mutacion1)"
   ]
  },
  {
   "cell_type": "code",
   "execution_count": 15,
   "id": "01282248-af81-4d31-8c12-b1b2ffd5464c",
   "metadata": {},
   "outputs": [],
   "source": [
    "def condicion_termino(grafo, evaluaciones, numero_i=4):\n",
    "    evaluacion1 = evaluaciones[:]\n",
    "    seleccion1 = seleccion(evaluacion1, porcentaje_de_seleccion_de_poblacion=0.5)\n",
    "    \n",
    "    while numero_i != 0:\n",
    "        print(f'Selección de padres: {seleccion1}\\n')\n",
    "        \n",
    "        recombinacion1 = recombinacion(seleccion1)\n",
    "        print(f'Cruce de padres (Hijos): {recombinacion1}\\n')\n",
    "        \n",
    "        mutacion1 = mutacion(recombinacion1)\n",
    "        print(f'Mutación de hijos: {mutacion1}\\n')\n",
    "        \n",
    "        evaluacion_hijos = evaluacion(grafo, mutacion1)\n",
    "        print(f'Evaluación de los hijos: {evaluacion_hijos}\\n')\n",
    "        \n",
    "        seleccion_hijos = seleccion(evaluacion_hijos, porcentaje_de_seleccion_de_poblacion=0.5)\n",
    "        seleccion_padres_hijos = seleccion_hijos + seleccion1\n",
    "        seleccion1 = seleccion(seleccion_padres_hijos, porcentaje_de_seleccion_de_poblacion=0.5)\n",
    "        \n",
    "        numero_i -= 1\n",
    "    print(f\"seleccion_padres_hijos{seleccion_padres_hijos}\")\n",
    "    print(f'Solución encontrada: {seleccion1}')"
   ]
  },
  {
   "cell_type": "code",
   "execution_count": 16,
   "id": "01995a05-2903-4cb1-ad3f-f5633b0e374e",
   "metadata": {},
   "outputs": [
    {
     "name": "stdout",
     "output_type": "stream",
     "text": [
      "Selección de padres: [(['A', 'B', 'D', 'C', 'A'], 11), (['A', 'D', 'C', 'B', 'A'], 11)]\n",
      "\n",
      "Cruce de padres (Hijos): [['A', 'D', 'C', 'B', 'A'], ['A', 'B', 'D', 'C', 'A'], ['A', 'D', 'C', 'B', 'A'], ['A', 'B', 'D', 'C', 'A']]\n",
      "\n",
      "Mutación de hijos: [['A', 'D', 'C', 'B', 'A'], ['A', 'C', 'D', 'B', 'A'], ['A', 'D', 'C', 'B', 'A'], ['A', 'B', 'D', 'C', 'A']]\n",
      "\n",
      "Evaluación de los hijos: [(['A', 'D', 'C', 'B', 'A'], 11), (['A', 'C', 'D', 'B', 'A'], 11), (['A', 'D', 'C', 'B', 'A'], 11), (['A', 'B', 'D', 'C', 'A'], 11)]\n",
      "\n",
      "Selección de padres: [(['A', 'D', 'C', 'B', 'A'], 11), (['A', 'C', 'D', 'B', 'A'], 11)]\n",
      "\n",
      "Cruce de padres (Hijos): [['A', 'C', 'D', 'B', 'A'], ['A', 'D', 'C', 'B', 'A'], ['A', 'C', 'D', 'B', 'A'], ['A', 'D', 'C', 'B', 'A']]\n",
      "\n",
      "Mutación de hijos: [['A', 'C', 'D', 'B', 'A'], ['A', 'C', 'D', 'B', 'A'], ['A', 'C', 'B', 'D', 'A'], ['A', 'D', 'C', 'B', 'A']]\n",
      "\n",
      "Evaluación de los hijos: [(['A', 'C', 'D', 'B', 'A'], 11), (['A', 'C', 'D', 'B', 'A'], 11), (['A', 'C', 'B', 'D', 'A'], 16), (['A', 'D', 'C', 'B', 'A'], 11)]\n",
      "\n",
      "Selección de padres: [(['A', 'C', 'D', 'B', 'A'], 11), (['A', 'C', 'D', 'B', 'A'], 11)]\n",
      "\n",
      "Cruce de padres (Hijos): [['A', 'C', 'D', 'B', 'A'], ['A', 'C', 'D', 'B', 'A'], ['A', 'C', 'D', 'B', 'A'], ['A', 'C', 'D', 'B', 'A']]\n",
      "\n",
      "Mutación de hijos: [['A', 'C', 'D', 'B', 'A'], ['A', 'D', 'C', 'B', 'A'], ['A', 'C', 'D', 'B', 'A'], ['A', 'D', 'C', 'B', 'A']]\n",
      "\n",
      "Evaluación de los hijos: [(['A', 'C', 'D', 'B', 'A'], 11), (['A', 'D', 'C', 'B', 'A'], 11), (['A', 'C', 'D', 'B', 'A'], 11), (['A', 'D', 'C', 'B', 'A'], 11)]\n",
      "\n",
      "Selección de padres: [(['A', 'C', 'D', 'B', 'A'], 11), (['A', 'D', 'C', 'B', 'A'], 11)]\n",
      "\n",
      "Cruce de padres (Hijos): [['A', 'D', 'C', 'B', 'A'], ['A', 'C', 'D', 'B', 'A'], ['A', 'C', 'D', 'B', 'A'], ['A', 'D', 'C', 'B', 'A']]\n",
      "\n",
      "Mutación de hijos: [['A', 'B', 'C', 'D', 'A'], ['A', 'C', 'D', 'B', 'A'], ['A', 'D', 'B', 'C', 'A'], ['A', 'C', 'B', 'D', 'A']]\n",
      "\n",
      "Evaluación de los hijos: [(['A', 'B', 'C', 'D', 'A'], 11), (['A', 'C', 'D', 'B', 'A'], 11), (['A', 'D', 'B', 'C', 'A'], 16), (['A', 'C', 'B', 'D', 'A'], 16)]\n",
      "\n",
      "seleccion_padres_hijos[(['A', 'B', 'C', 'D', 'A'], 11), (['A', 'C', 'D', 'B', 'A'], 11), (['A', 'C', 'D', 'B', 'A'], 11), (['A', 'D', 'C', 'B', 'A'], 11)]\n",
      "Solución encontrada: [(['A', 'B', 'C', 'D', 'A'], 11), (['A', 'C', 'D', 'B', 'A'], 11)]\n"
     ]
    }
   ],
   "source": [
    "condicion_termino(grafo, evaluacion1)"
   ]
  },
  {
   "cell_type": "code",
   "execution_count": null,
   "id": "c5328778-4c38-4ccf-b572-e7357fe0ef5c",
   "metadata": {},
   "outputs": [],
   "source": []
  },
  {
   "cell_type": "code",
   "execution_count": 1,
   "id": "691ffb67-8d3a-4388-83b9-58017e4235f7",
   "metadata": {},
   "outputs": [
    {
     "name": "stdout",
     "output_type": "stream",
     "text": [
      "[['z', 'b'], ['c', 'd'], ['e', 'b']]\n"
     ]
    }
   ],
   "source": [
    "child1 = [['a', 'b'], ['c', 'd'], ['e', 'b']]\n",
    "elemento_a = 'a'\n",
    "nuevo_valor = 'z'\n",
    "\n",
    "for sublist in child1:\n",
    "    if elemento_a in sublist:\n",
    "        index = sublist.index(elemento_a)\n",
    "        sublist[index] = nuevo_valor\n",
    "\n",
    "print(child1)\n"
   ]
  },
  {
   "cell_type": "code",
   "execution_count": 2,
   "id": "23376c67-a6f8-4813-9e60-1953362673db",
   "metadata": {},
   "outputs": [
    {
     "name": "stdout",
     "output_type": "stream",
     "text": [
      "[('z', 'b'), ('c', 'd'), ('e', 'b')]\n"
     ]
    }
   ],
   "source": [
    "child1 = [('a', 'b'), ('c', 'd'), ('e', 'b')]\n",
    "elemento_a = 'a'\n",
    "nuevo_valor = 'z'\n",
    "\n",
    "for tupla in child1:\n",
    "    if elemento_a in tupla:\n",
    "        index = tupla.index(elemento_a)\n",
    "        lista_aux = list(tupla)\n",
    "        lista_aux[index] = nuevo_valor\n",
    "        child1[child1.index(tupla)] = tuple(lista_aux)\n",
    "\n",
    "print(child1)\n"
   ]
  }
 ],
 "metadata": {
  "kernelspec": {
   "display_name": "Python 3 (ipykernel)",
   "language": "python",
   "name": "python3"
  },
  "language_info": {
   "codemirror_mode": {
    "name": "ipython",
    "version": 3
   },
   "file_extension": ".py",
   "mimetype": "text/x-python",
   "name": "python",
   "nbconvert_exporter": "python",
   "pygments_lexer": "ipython3",
   "version": "3.12.0"
  }
 },
 "nbformat": 4,
 "nbformat_minor": 5
}
